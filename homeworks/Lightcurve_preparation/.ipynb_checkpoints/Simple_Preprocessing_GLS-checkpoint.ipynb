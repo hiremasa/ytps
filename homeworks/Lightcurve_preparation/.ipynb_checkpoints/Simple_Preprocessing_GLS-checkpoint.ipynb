{
 "cells": [
  {
   "cell_type": "code",
   "execution_count": 1,
   "id": "8b6e0066",
   "metadata": {},
   "outputs": [],
   "source": [
    "import logging\n",
    "import numpy as np\n",
    "import pandas as pd\n",
    "import matplotlib.pyplot as plt  \n",
    "%matplotlib inline\n",
    "import gc\n",
    "import sys\n",
    "sys.path.append('../../GLS/python/')\n",
    "\n",
    "import lightkurve as lk\n",
    "from astropy.timeseries import LombScargle\n",
    "import astropy.units as u\n",
    "\n",
    "from gls import Gls\n",
    "from tqdm.notebook import tqdm\n",
    "\n",
    "from logging import getLogger\n",
    "logger = getLogger(__name__)\n",
    "import warnings\n",
    "warnings.simplefilter('ignore')"
   ]
  },
  {
   "cell_type": "code",
   "execution_count": 2,
   "id": "4ac93cfb",
   "metadata": {},
   "outputs": [],
   "source": [
    "target_list = [\n",
    "    \"TOI540\",\n",
    "    \"TOI837\",\n",
    "    \"TOI942\",\n",
    "    \"TOI251\",\n",
    "    \"TOI451\",\n",
    "    \"TOI1685\",\n",
    "    \"TOI776\"\n",
    "]\n",
    "\n",
    "P_rot_list = [\n",
    "    \"0.72610\",\n",
    "    \"3.004\",\n",
    "    \"3.39\",\n",
    "    \"3.84\",\n",
    "    \"5.1\",\n",
    "    \"18.66\",\n",
    "    \"34.4\"\n",
    "]\n",
    "\n",
    "P_rot_var_list = [\n",
    "    \"0.00039\",\n",
    "    \"0.053\",\n",
    "    \"0.01\",\n",
    "    \"0.48\",\n",
    "    \"0.1\",\n",
    "    \"0.71\",\n",
    "    \"2.0\"\n",
    "]\n",
    "df_preds = pd.DataFrame()\n",
    "df_preds[\"target\"] = pd.Series(target_list)\n",
    "df_preds[\"P_rot\"] = pd.Series(P_rot_list)\n",
    "df_preds[\"P_rot_var\"] = pd.Series(P_rot_var_list)\n",
    "df_preds[\"P_rot_pred\"] = None\n",
    "df_preds[\"P_rot_var_pred\"] = None"
   ]
  },
  {
   "cell_type": "code",
   "execution_count": 3,
   "id": "78df4f97",
   "metadata": {
    "scrolled": false
   },
   "outputs": [
    {
     "data": {
      "application/vnd.jupyter.widget-view+json": {
       "model_id": "8059750eb7f84a45b68de699ce4c6b64",
       "version_major": 2,
       "version_minor": 0
      },
      "text/plain": [
       "HBox(children=(IntProgress(value=0, max=7), HTML(value='')))"
      ]
     },
     "metadata": {},
     "output_type": "display_data"
    },
    {
     "name": "stdout",
     "output_type": "stream",
     "text": [
      "Cannnot get LightCurve of TOI540, Try again\n",
      "Cannnot get LightCurve of TOI837, Try again\n",
      "Cannnot get LightCurve of TOI942, Try again\n",
      "Cannnot get LightCurve of TOI251, Try again\n",
      "Cannnot get LightCurve of TOI451, Try again\n",
      "Cannnot get LightCurve of TOI1685, Try again\n",
      "WARNING: Highest peak is at the edge of the frequency range.\n",
      "No output of frequency error.\n",
      "Increase frequency range to sample the peak maximum.\n",
      "Cannnot get LightCurve of TOI776, Try again\n",
      "\n"
     ]
    },
    {
     "data": {
      "text/html": [
       "<div>\n",
       "<style scoped>\n",
       "    .dataframe tbody tr th:only-of-type {\n",
       "        vertical-align: middle;\n",
       "    }\n",
       "\n",
       "    .dataframe tbody tr th {\n",
       "        vertical-align: top;\n",
       "    }\n",
       "\n",
       "    .dataframe thead th {\n",
       "        text-align: right;\n",
       "    }\n",
       "</style>\n",
       "<table border=\"1\" class=\"dataframe\">\n",
       "  <thead>\n",
       "    <tr style=\"text-align: right;\">\n",
       "      <th></th>\n",
       "      <th>target</th>\n",
       "      <th>P_rot</th>\n",
       "      <th>P_rot_var</th>\n",
       "      <th>P_rot_pred</th>\n",
       "      <th>P_rot_var_pred</th>\n",
       "    </tr>\n",
       "  </thead>\n",
       "  <tbody>\n",
       "    <tr>\n",
       "      <th>0</th>\n",
       "      <td>TOI540</td>\n",
       "      <td>0.72610</td>\n",
       "      <td>0.00039</td>\n",
       "      <td>None</td>\n",
       "      <td>None</td>\n",
       "    </tr>\n",
       "    <tr>\n",
       "      <th>1</th>\n",
       "      <td>TOI837</td>\n",
       "      <td>3.004</td>\n",
       "      <td>0.053</td>\n",
       "      <td>None</td>\n",
       "      <td>None</td>\n",
       "    </tr>\n",
       "    <tr>\n",
       "      <th>2</th>\n",
       "      <td>TOI942</td>\n",
       "      <td>3.39</td>\n",
       "      <td>0.01</td>\n",
       "      <td>None</td>\n",
       "      <td>None</td>\n",
       "    </tr>\n",
       "    <tr>\n",
       "      <th>3</th>\n",
       "      <td>TOI251</td>\n",
       "      <td>3.84</td>\n",
       "      <td>0.48</td>\n",
       "      <td>None</td>\n",
       "      <td>None</td>\n",
       "    </tr>\n",
       "    <tr>\n",
       "      <th>4</th>\n",
       "      <td>TOI451</td>\n",
       "      <td>5.1</td>\n",
       "      <td>0.1</td>\n",
       "      <td>None</td>\n",
       "      <td>None</td>\n",
       "    </tr>\n",
       "    <tr>\n",
       "      <th>5</th>\n",
       "      <td>TOI1685</td>\n",
       "      <td>18.66</td>\n",
       "      <td>0.71</td>\n",
       "      <td>None</td>\n",
       "      <td>None</td>\n",
       "    </tr>\n",
       "    <tr>\n",
       "      <th>6</th>\n",
       "      <td>TOI776</td>\n",
       "      <td>34.4</td>\n",
       "      <td>2.0</td>\n",
       "      <td>None</td>\n",
       "      <td>None</td>\n",
       "    </tr>\n",
       "  </tbody>\n",
       "</table>\n",
       "</div>"
      ],
      "text/plain": [
       "    target    P_rot P_rot_var P_rot_pred P_rot_var_pred\n",
       "0   TOI540  0.72610   0.00039       None           None\n",
       "1   TOI837    3.004     0.053       None           None\n",
       "2   TOI942     3.39      0.01       None           None\n",
       "3   TOI251     3.84      0.48       None           None\n",
       "4   TOI451      5.1       0.1       None           None\n",
       "5  TOI1685    18.66      0.71       None           None\n",
       "6   TOI776     34.4       2.0       None           None"
      ]
     },
     "execution_count": 3,
     "metadata": {},
     "output_type": "execute_result"
    },
    {
     "data": {
      "text/plain": [
       "<Figure size 432x864 with 0 Axes>"
      ]
     },
     "metadata": {},
     "output_type": "display_data"
    },
    {
     "data": {
      "text/plain": [
       "<Figure size 432x864 with 0 Axes>"
      ]
     },
     "metadata": {},
     "output_type": "display_data"
    },
    {
     "data": {
      "text/plain": [
       "<Figure size 432x864 with 0 Axes>"
      ]
     },
     "metadata": {},
     "output_type": "display_data"
    },
    {
     "data": {
      "text/plain": [
       "<Figure size 432x864 with 0 Axes>"
      ]
     },
     "metadata": {},
     "output_type": "display_data"
    },
    {
     "data": {
      "text/plain": [
       "<Figure size 432x864 with 0 Axes>"
      ]
     },
     "metadata": {},
     "output_type": "display_data"
    }
   ],
   "source": [
    "if __name__ == \"__main__\":\n",
    "    P_rot_pred = []\n",
    "    P_rot_var_pred = []\n",
    "\n",
    "    for idx, target_star in enumerate(tqdm(target_list)):\n",
    "        try:\n",
    "            lc_file = lk.search_lightcurve(f\"{target_star}\")\n",
    "            lc = lc_file[lc_file.author.data==\"SPOC\"][0].download()\n",
    "            lc = lc.normalize().remove_nans()\n",
    "            \n",
    "            gc.collect()\n",
    "\n",
    "            #calculate the P_rot by GLM\n",
    "            df = [lc.time.value, lc.flux.value, lc.flux_err.value]\n",
    "            gls = Gls(df, Pbeg=0.1, Pend=10)\n",
    "            preds = gls.best\n",
    "            #print(preds)\n",
    "            fig = gls.plot(star_name=target_star)\n",
    "            fig.show()\n",
    "\n",
    "            #store the predicted values\n",
    "            P_rot_pred.append(preds[\"P\"])\n",
    "            P_rot_var_pred.append(preds[\"e_P\"])\n",
    "        \n",
    "        except:\n",
    "            print(f\"Cannnot get LightCurve of {target_star}, Try again\")\n",
    "            P_rot_pred.append(None)\n",
    "            P_rot_var_pred.append(None)\n",
    "            continue\n",
    "        #download the first SPOC data\n",
    "\n",
    "\n",
    "        \n",
    "df_preds[\"P_rot_pred\"] = P_rot_pred\n",
    "df_preds[\"P_rot_var_pred\"] = P_rot_var_pred     \n",
    "        \n",
    "df_preds\n",
    "        "
   ]
  },
  {
   "cell_type": "code",
   "execution_count": null,
   "id": "fccdef41",
   "metadata": {},
   "outputs": [],
   "source": []
  },
  {
   "cell_type": "code",
   "execution_count": null,
   "id": "e937c20e",
   "metadata": {},
   "outputs": [],
   "source": []
  },
  {
   "cell_type": "code",
   "execution_count": null,
   "id": "9dd119df",
   "metadata": {},
   "outputs": [],
   "source": []
  },
  {
   "cell_type": "code",
   "execution_count": null,
   "id": "51cc2d24",
   "metadata": {},
   "outputs": [],
   "source": []
  },
  {
   "cell_type": "code",
   "execution_count": null,
   "id": "ede6f5b4",
   "metadata": {},
   "outputs": [],
   "source": []
  },
  {
   "cell_type": "code",
   "execution_count": null,
   "id": "e2280a7a",
   "metadata": {},
   "outputs": [],
   "source": []
  },
  {
   "cell_type": "code",
   "execution_count": null,
   "id": "8c957ba1",
   "metadata": {},
   "outputs": [],
   "source": []
  },
  {
   "cell_type": "code",
   "execution_count": null,
   "id": "7f536724",
   "metadata": {},
   "outputs": [],
   "source": []
  },
  {
   "cell_type": "code",
   "execution_count": null,
   "id": "83729f44",
   "metadata": {},
   "outputs": [],
   "source": []
  },
  {
   "cell_type": "code",
   "execution_count": null,
   "id": "8d31182b",
   "metadata": {},
   "outputs": [],
   "source": []
  },
  {
   "cell_type": "code",
   "execution_count": null,
   "id": "415b9e49",
   "metadata": {},
   "outputs": [],
   "source": []
  },
  {
   "cell_type": "code",
   "execution_count": null,
   "id": "f6c6688e",
   "metadata": {},
   "outputs": [],
   "source": []
  },
  {
   "cell_type": "code",
   "execution_count": null,
   "id": "389d5660",
   "metadata": {},
   "outputs": [],
   "source": []
  },
  {
   "cell_type": "code",
   "execution_count": null,
   "id": "1f65599d",
   "metadata": {},
   "outputs": [],
   "source": []
  },
  {
   "cell_type": "code",
   "execution_count": null,
   "id": "19501a6c",
   "metadata": {},
   "outputs": [],
   "source": []
  },
  {
   "cell_type": "code",
   "execution_count": null,
   "id": "4eeac113",
   "metadata": {},
   "outputs": [],
   "source": []
  },
  {
   "cell_type": "code",
   "execution_count": null,
   "id": "b1231554",
   "metadata": {},
   "outputs": [],
   "source": []
  },
  {
   "cell_type": "code",
   "execution_count": null,
   "id": "f795f98b",
   "metadata": {},
   "outputs": [],
   "source": []
  },
  {
   "cell_type": "code",
   "execution_count": null,
   "id": "70deafd4",
   "metadata": {},
   "outputs": [],
   "source": []
  },
  {
   "cell_type": "code",
   "execution_count": null,
   "id": "769d8c87",
   "metadata": {},
   "outputs": [],
   "source": []
  },
  {
   "cell_type": "code",
   "execution_count": null,
   "id": "9088aeeb",
   "metadata": {},
   "outputs": [],
   "source": []
  },
  {
   "cell_type": "code",
   "execution_count": 5,
   "id": "ab267b37",
   "metadata": {},
   "outputs": [
    {
     "ename": "AttributeError",
     "evalue": "'Figure' object has no attribute 'title'",
     "output_type": "error",
     "traceback": [
      "\u001b[0;31m---------------------------------------------------------------------------\u001b[0m",
      "\u001b[0;31mAttributeError\u001b[0m                            Traceback (most recent call last)",
      "\u001b[0;32m/var/folders/sm/hx45xbp11v75qmr4xxgxlch40000gn/T/ipykernel_15771/1667354159.py\u001b[0m in \u001b[0;36m<module>\u001b[0;34m\u001b[0m\n\u001b[1;32m      1\u001b[0m \u001b[0;32mimport\u001b[0m \u001b[0mmatplotlib\u001b[0m\u001b[0;34m.\u001b[0m\u001b[0mpylab\u001b[0m \u001b[0;32mas\u001b[0m \u001b[0mmpl\u001b[0m\u001b[0;34m\u001b[0m\u001b[0;34m\u001b[0m\u001b[0m\n\u001b[1;32m      2\u001b[0m \u001b[0mfig\u001b[0m \u001b[0;34m=\u001b[0m \u001b[0mmpl\u001b[0m\u001b[0;34m.\u001b[0m\u001b[0mfigure\u001b[0m\u001b[0;34m(\u001b[0m\u001b[0;34m)\u001b[0m\u001b[0;34m\u001b[0m\u001b[0;34m\u001b[0m\u001b[0m\n\u001b[0;32m----> 3\u001b[0;31m \u001b[0mfig\u001b[0m\u001b[0;34m.\u001b[0m\u001b[0mtitle\u001b[0m\u001b[0;34m(\u001b[0m\u001b[0;34m\"a\"\u001b[0m\u001b[0;34m)\u001b[0m\u001b[0;34m\u001b[0m\u001b[0;34m\u001b[0m\u001b[0m\n\u001b[0m",
      "\u001b[0;31mAttributeError\u001b[0m: 'Figure' object has no attribute 'title'"
     ]
    },
    {
     "data": {
      "text/plain": [
       "<Figure size 432x288 with 0 Axes>"
      ]
     },
     "metadata": {},
     "output_type": "display_data"
    }
   ],
   "source": [
    "import matplotlib.pylab as mpl\n",
    "fig = mpl.figure()\n",
    "fig.title(\"a\")"
   ]
  },
  {
   "cell_type": "code",
   "execution_count": 9,
   "id": "59b28cc5",
   "metadata": {},
   "outputs": [
    {
     "data": {
      "text/plain": [
       "{'_stale': True,\n",
       " 'stale_callback': None,\n",
       " 'figure': <Figure size 432x288 with 0 Axes>,\n",
       " '_transform': None,\n",
       " '_transformSet': False,\n",
       " '_visible': True,\n",
       " '_animated': False,\n",
       " '_alpha': None,\n",
       " 'clipbox': None,\n",
       " '_clippath': None,\n",
       " '_clipon': True,\n",
       " '_label': '',\n",
       " '_picker': None,\n",
       " '_contains': None,\n",
       " '_rasterized': False,\n",
       " '_agg_filter': None,\n",
       " '_mouseover': False,\n",
       " '_callbacks': <matplotlib.cbook.CallbackRegistry at 0x134ee0b90>,\n",
       " '_remove_method': None,\n",
       " '_url': None,\n",
       " '_gid': None,\n",
       " '_snap': None,\n",
       " '_sketch': None,\n",
       " '_path_effects': [],\n",
       " '_sticky_edges': _XYPair(x=[], y=[]),\n",
       " '_in_layout': True,\n",
       " '_suptitle': None,\n",
       " '_supxlabel': None,\n",
       " '_supylabel': None,\n",
       " '_align_label_groups': {'x': <matplotlib.cbook.Grouper at 0x134ee0910>,\n",
       "  'y': <matplotlib.cbook.Grouper at 0x134ee0150>},\n",
       " '_gridspecs': [],\n",
       " '_localaxes': <matplotlib.figure._AxesStack at 0x134ee04d0>,\n",
       " 'artists': [],\n",
       " 'lines': [],\n",
       " 'patches': [],\n",
       " 'texts': [],\n",
       " 'images': [],\n",
       " 'legends': [],\n",
       " 'subfigs': [],\n",
       " 'suppressComposite': None,\n",
       " 'callbacks': <matplotlib.cbook.CallbackRegistry at 0x134ee0a50>,\n",
       " '_canvas_callbacks': <matplotlib.cbook.CallbackRegistry at 0x134ee06d0>,\n",
       " '_button_pick_id': 0,\n",
       " '_scroll_pick_id': 1,\n",
       " 'bbox_inches': Bbox([[0.0, 0.0], [6.0, 4.0]]),\n",
       " 'dpi_scale_trans': <matplotlib.transforms.Affine2D at 0x134ee0210>,\n",
       " '_dpi': 72.0,\n",
       " 'bbox': <matplotlib.transforms.TransformedBbox at 0x134ee0950>,\n",
       " 'figbbox': <matplotlib.transforms.TransformedBbox at 0x134ee0950>,\n",
       " 'transFigure': <matplotlib.transforms.BboxTransformTo at 0x134ee0090>,\n",
       " 'transSubfigure': <matplotlib.transforms.BboxTransformTo at 0x134ee0090>,\n",
       " 'patch': <matplotlib.patches.Rectangle at 0x134ee0410>,\n",
       " 'canvas': <matplotlib.backends.backend_agg.FigureCanvasAgg at 0x134ee0190>,\n",
       " 'subplotpars': <matplotlib.figure.SubplotParams at 0x134ee0a10>,\n",
       " '_constrained': False,\n",
       " '_tight': False,\n",
       " '_tight_parameters': {},\n",
       " '_axstack': <matplotlib.figure._AxesStack at 0x134ee0650>,\n",
       " '_axobservers': <matplotlib.cbook.CallbackRegistry at 0x134ee0690>,\n",
       " '_cachedRenderer': None,\n",
       " '_constrained_layout_pads': {'w_pad': 0.04167,\n",
       "  'h_pad': 0.04167,\n",
       "  'wspace': 0.02,\n",
       "  'hspace': 0.02},\n",
       " '_layoutgrid': LayoutBox: figlb                     1x1,\n",
       " 0, 0: L(0.000, B0.000, W0.000, H0.000, innerW0.000, innerH0.000, ML0.000, MR0.000, ,\n",
       " 'number': 1}"
      ]
     },
     "execution_count": 9,
     "metadata": {},
     "output_type": "execute_result"
    },
    {
     "data": {
      "text/plain": [
       "<Figure size 432x288 with 0 Axes>"
      ]
     },
     "metadata": {},
     "output_type": "display_data"
    }
   ],
   "source": [
    "mpl.figure().__dict__"
   ]
  },
  {
   "cell_type": "code",
   "execution_count": 11,
   "id": "a305bb08",
   "metadata": {},
   "outputs": [
    {
     "ename": "SyntaxError",
     "evalue": "invalid syntax (3549000628.py, line 1)",
     "output_type": "error",
     "traceback": [
      "\u001b[0;36m  File \u001b[0;32m\"/var/folders/sm/hx45xbp11v75qmr4xxgxlch40000gn/T/ipykernel_15771/3549000628.py\"\u001b[0;36m, line \u001b[0;32m1\u001b[0m\n\u001b[0;31m    mpl.figure()?\u001b[0m\n\u001b[0m                ^\u001b[0m\n\u001b[0;31mSyntaxError\u001b[0m\u001b[0;31m:\u001b[0m invalid syntax\n"
     ]
    }
   ],
   "source": [
    "mpl.figure()?"
   ]
  },
  {
   "cell_type": "code",
   "execution_count": null,
   "id": "fe7dd21c",
   "metadata": {},
   "outputs": [],
   "source": []
  },
  {
   "cell_type": "code",
   "execution_count": null,
   "id": "aa222433",
   "metadata": {},
   "outputs": [],
   "source": []
  },
  {
   "cell_type": "code",
   "execution_count": null,
   "id": "6c864f5a",
   "metadata": {},
   "outputs": [],
   "source": []
  },
  {
   "cell_type": "code",
   "execution_count": null,
   "id": "77ebd4ca",
   "metadata": {},
   "outputs": [],
   "source": []
  },
  {
   "cell_type": "code",
   "execution_count": null,
   "id": "98fd2c8e",
   "metadata": {},
   "outputs": [],
   "source": []
  }
 ],
 "metadata": {
  "kernelspec": {
   "display_name": "Python 3 (ipykernel)",
   "language": "python",
   "name": "python3"
  },
  "language_info": {
   "codemirror_mode": {
    "name": "ipython",
    "version": 3
   },
   "file_extension": ".py",
   "mimetype": "text/x-python",
   "name": "python",
   "nbconvert_exporter": "python",
   "pygments_lexer": "ipython3",
   "version": "3.7.4"
  }
 },
 "nbformat": 4,
 "nbformat_minor": 5
}
