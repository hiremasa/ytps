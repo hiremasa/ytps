{
 "cells": [
  {
   "cell_type": "code",
   "execution_count": 2,
   "id": "4d76c21e",
   "metadata": {},
   "outputs": [
    {
     "name": "stdout",
     "output_type": "stream",
     "text": [
      "/home/kobayashi/project/B4_research/src\n"
     ]
    }
   ],
   "source": [
    "%cd /home/kobayashi/project/B4_research/src"
   ]
  },
  {
   "cell_type": "code",
   "execution_count": 3,
   "id": "78677335",
   "metadata": {},
   "outputs": [],
   "source": [
    "import os\n",
    "assert os.getcwd() == \"/home/kobayashi/project/B4_research/src\""
   ]
  },
  {
   "cell_type": "code",
   "execution_count": 9,
   "id": "a90895df",
   "metadata": {},
   "outputs": [],
   "source": [
    "import os\n",
    "import numpy as np\n",
    "import pandas as pd\n",
    "\n",
    "import argparse"
   ]
  },
  {
   "cell_type": "code",
   "execution_count": 47,
   "id": "dbedfa80",
   "metadata": {},
   "outputs": [],
   "source": [
    "parser = argparse.ArgumentParser(description='Make GP wotan & TLS python script from \"output/sectorxx/all_df_sort_pmax.csv\"')\n",
    "parser.add_argument('--upper_thresh', type=float, default=1.0, help='upper threshold of Pmax value')\n",
    "parser.add_argument('--lower_thresh', type=float, default=0.8, help='lower threshold of Pmax value')\n",
    "parser.add_argument('--experiment_name', type=str, default=None, help='folder under output dir according to the experiment')\n",
    "parser.add_argument('--sector_number', type=int, default=None, help='the number of sector')\n",
    "\n",
    "args = parser.parse_args([])"
   ]
  },
  {
   "cell_type": "code",
   "execution_count": 32,
   "id": "a6ca3c25",
   "metadata": {},
   "outputs": [],
   "source": [
    "all_sorted_df = pd.read_csv('../output/sector45/all_df_sort_pmax.csv', index_col=0)"
   ]
  },
  {
   "cell_type": "code",
   "execution_count": 33,
   "id": "c0d4fbf7",
   "metadata": {},
   "outputs": [
    {
     "data": {
      "text/html": [
       "<div>\n",
       "<style scoped>\n",
       "    .dataframe tbody tr th:only-of-type {\n",
       "        vertical-align: middle;\n",
       "    }\n",
       "\n",
       "    .dataframe tbody tr th {\n",
       "        vertical-align: top;\n",
       "    }\n",
       "\n",
       "    .dataframe thead th {\n",
       "        text-align: right;\n",
       "    }\n",
       "</style>\n",
       "<table border=\"1\" class=\"dataframe\">\n",
       "  <thead>\n",
       "    <tr style=\"text-align: right;\">\n",
       "      <th></th>\n",
       "      <th>f</th>\n",
       "      <th>P</th>\n",
       "      <th>amp</th>\n",
       "      <th>ph</th>\n",
       "      <th>T0</th>\n",
       "      <th>offset</th>\n",
       "      <th>e_amp</th>\n",
       "      <th>e_ph</th>\n",
       "      <th>e_T0</th>\n",
       "      <th>e_offset</th>\n",
       "      <th>e_f</th>\n",
       "      <th>e_P</th>\n",
       "      <th>pmax</th>\n",
       "    </tr>\n",
       "  </thead>\n",
       "  <tbody>\n",
       "    <tr>\n",
       "      <th>TIC60152853_SECTOR45</th>\n",
       "      <td>3.682203</td>\n",
       "      <td>0.271577</td>\n",
       "      <td>0.119454</td>\n",
       "      <td>0.345136</td>\n",
       "      <td>2526.247980</td>\n",
       "      <td>0.996997</td>\n",
       "      <td>0.000076</td>\n",
       "      <td>0.000101</td>\n",
       "      <td>0.000027</td>\n",
       "      <td>0.000054</td>\n",
       "      <td>0.000019</td>\n",
       "      <td>0.000001</td>\n",
       "      <td>0.993834</td>\n",
       "    </tr>\n",
       "    <tr>\n",
       "      <th>TIC440779601_SECTOR45</th>\n",
       "      <td>1.802127</td>\n",
       "      <td>0.554900</td>\n",
       "      <td>0.059327</td>\n",
       "      <td>0.332675</td>\n",
       "      <td>2526.297980</td>\n",
       "      <td>0.999971</td>\n",
       "      <td>0.000047</td>\n",
       "      <td>0.000126</td>\n",
       "      <td>0.000070</td>\n",
       "      <td>0.000033</td>\n",
       "      <td>0.000024</td>\n",
       "      <td>0.000007</td>\n",
       "      <td>0.990497</td>\n",
       "    </tr>\n",
       "    <tr>\n",
       "      <th>TIC79674168_SECTOR45</th>\n",
       "      <td>0.291133</td>\n",
       "      <td>3.434855</td>\n",
       "      <td>0.026527</td>\n",
       "      <td>0.449973</td>\n",
       "      <td>2524.493912</td>\n",
       "      <td>1.001149</td>\n",
       "      <td>0.000022</td>\n",
       "      <td>0.000135</td>\n",
       "      <td>0.000462</td>\n",
       "      <td>0.000016</td>\n",
       "      <td>0.000026</td>\n",
       "      <td>0.000301</td>\n",
       "      <td>0.988535</td>\n",
       "    </tr>\n",
       "    <tr>\n",
       "      <th>TIC312563333_SECTOR45</th>\n",
       "      <td>0.522934</td>\n",
       "      <td>1.912288</td>\n",
       "      <td>0.014608</td>\n",
       "      <td>0.026677</td>\n",
       "      <td>2525.988563</td>\n",
       "      <td>1.000472</td>\n",
       "      <td>0.000013</td>\n",
       "      <td>0.000147</td>\n",
       "      <td>0.000281</td>\n",
       "      <td>0.000010</td>\n",
       "      <td>0.000029</td>\n",
       "      <td>0.000105</td>\n",
       "      <td>0.986518</td>\n",
       "    </tr>\n",
       "    <tr>\n",
       "      <th>TIC320536498_SECTOR45</th>\n",
       "      <td>4.868994</td>\n",
       "      <td>0.205381</td>\n",
       "      <td>0.092879</td>\n",
       "      <td>0.153965</td>\n",
       "      <td>2526.188709</td>\n",
       "      <td>0.994316</td>\n",
       "      <td>0.000088</td>\n",
       "      <td>0.000150</td>\n",
       "      <td>0.000031</td>\n",
       "      <td>0.000062</td>\n",
       "      <td>0.000029</td>\n",
       "      <td>0.000001</td>\n",
       "      <td>0.986354</td>\n",
       "    </tr>\n",
       "  </tbody>\n",
       "</table>\n",
       "</div>"
      ],
      "text/plain": [
       "                              f         P       amp        ph           T0  \\\n",
       "TIC60152853_SECTOR45   3.682203  0.271577  0.119454  0.345136  2526.247980   \n",
       "TIC440779601_SECTOR45  1.802127  0.554900  0.059327  0.332675  2526.297980   \n",
       "TIC79674168_SECTOR45   0.291133  3.434855  0.026527  0.449973  2524.493912   \n",
       "TIC312563333_SECTOR45  0.522934  1.912288  0.014608  0.026677  2525.988563   \n",
       "TIC320536498_SECTOR45  4.868994  0.205381  0.092879  0.153965  2526.188709   \n",
       "\n",
       "                         offset     e_amp      e_ph      e_T0  e_offset  \\\n",
       "TIC60152853_SECTOR45   0.996997  0.000076  0.000101  0.000027  0.000054   \n",
       "TIC440779601_SECTOR45  0.999971  0.000047  0.000126  0.000070  0.000033   \n",
       "TIC79674168_SECTOR45   1.001149  0.000022  0.000135  0.000462  0.000016   \n",
       "TIC312563333_SECTOR45  1.000472  0.000013  0.000147  0.000281  0.000010   \n",
       "TIC320536498_SECTOR45  0.994316  0.000088  0.000150  0.000031  0.000062   \n",
       "\n",
       "                            e_f       e_P      pmax  \n",
       "TIC60152853_SECTOR45   0.000019  0.000001  0.993834  \n",
       "TIC440779601_SECTOR45  0.000024  0.000007  0.990497  \n",
       "TIC79674168_SECTOR45   0.000026  0.000301  0.988535  \n",
       "TIC312563333_SECTOR45  0.000029  0.000105  0.986518  \n",
       "TIC320536498_SECTOR45  0.000029  0.000001  0.986354  "
      ]
     },
     "execution_count": 33,
     "metadata": {},
     "output_type": "execute_result"
    }
   ],
   "source": [
    "all_sorted_df.head()"
   ]
  },
  {
   "cell_type": "code",
   "execution_count": 37,
   "id": "25dd5bca",
   "metadata": {},
   "outputs": [],
   "source": [
    "select_df = all_sorted_df[(args.upper_thresh >= all_sorted_df['pmax']) &  (all_sorted_df['pmax'] >= args.lower_thresh)]"
   ]
  },
  {
   "cell_type": "code",
   "execution_count": 38,
   "id": "dc7bcb93",
   "metadata": {},
   "outputs": [
    {
     "data": {
      "text/plain": [
       "(349, 13)"
      ]
     },
     "execution_count": 38,
     "metadata": {},
     "output_type": "execute_result"
    }
   ],
   "source": [
    "python execute_wotan_tls.py --TOI 3353 --sector 4 --window_length 0.4 --experiment_name TOI"
   ]
  },
  {
   "cell_type": "code",
   "execution_count": null,
   "id": "1e282384",
   "metadata": {},
   "outputs": [],
   "source": [
    "python execute_wotan_gls.py --TIC 257605131 --experiment_name validated_candidates --method gp --kernel squared_exp --kernel_size 1 --tag 13\n"
   ]
  },
  {
   "cell_type": "code",
   "execution_count": 60,
   "id": "8a9c6d2b",
   "metadata": {},
   "outputs": [
    {
     "name": "stdout",
     "output_type": "stream",
     "text": [
      "python execute_wotan_tls.py --TIC 60152853 --experiment_name None --method gp --kernel squared_exp --kernel_size 1 --tag 1\n"
     ]
    }
   ],
   "source": [
    "for idx, (tic_id, row) in enumerate(select_df.iterrows()):\n",
    "    tic_number = tic_id.split('_')[0].split('TIC')[1]\n",
    "    print(f'python execute_wotan_tls.py --TIC {tic_number} --sector_number {args.sector_number} --experiment_name {args.experiment_name} --method gp --kernel squared_exp --kernel_size 1 --tag {idx + 1}')\n",
    "    break"
   ]
  },
  {
   "cell_type": "code",
   "execution_count": 53,
   "id": "848bedb5",
   "metadata": {},
   "outputs": [],
   "source": [
    "for a, (b, c) in enumerate(select_df.iterrows()):\n",
    "    break"
   ]
  },
  {
   "cell_type": "code",
   "execution_count": 59,
   "id": "a80fea45",
   "metadata": {},
   "outputs": [
    {
     "data": {
      "text/plain": [
       "'60152853'"
      ]
     },
     "execution_count": 59,
     "metadata": {},
     "output_type": "execute_result"
    }
   ],
   "source": [
    "tic_id.split('_')[0].split('TIC')[1]"
   ]
  },
  {
   "cell_type": "code",
   "execution_count": null,
   "id": "c925e8ec",
   "metadata": {},
   "outputs": [],
   "source": []
  }
 ],
 "metadata": {
  "kernelspec": {
   "display_name": "Python 3 (ipykernel)",
   "language": "python",
   "name": "python3"
  },
  "language_info": {
   "codemirror_mode": {
    "name": "ipython",
    "version": 3
   },
   "file_extension": ".py",
   "mimetype": "text/x-python",
   "name": "python",
   "nbconvert_exporter": "python",
   "pygments_lexer": "ipython3",
   "version": "3.9.6"
  }
 },
 "nbformat": 4,
 "nbformat_minor": 5
}
